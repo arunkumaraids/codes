{
  "nbformat": 4,
  "nbformat_minor": 0,
  "metadata": {
    "colab": {
      "provenance": [],
      "include_colab_link": true
    },
    "kernelspec": {
      "name": "python3",
      "display_name": "Python 3"
    },
    "language_info": {
      "name": "python"
    }
  },
  "cells": [
    {
      "cell_type": "markdown",
      "metadata": {
        "id": "view-in-github",
        "colab_type": "text"
      },
      "source": [
        "<a href=\"https://colab.research.google.com/github/arunkumaraids/codes/blob/main/python_codes_pynb.ipynb\" target=\"_parent\"><img src=\"https://colab.research.google.com/assets/colab-badge.svg\" alt=\"Open In Colab\"/></a>"
      ]
    },
    {
      "cell_type": "code",
      "execution_count": null,
      "metadata": {
        "id": "BEItTCgPfG-m"
      },
      "outputs": [],
      "source": [
        "#1 Programs on selection and Iteration operations\n",
        "\n",
        "x = 10\n",
        "if x > 0:\n",
        "    print(\"x is positive\")\n",
        "elif x == 0:\n",
        "    print(\"x is zero\")\n",
        "else:\n",
        "    print(\"x is negative\")\n",
        "\n",
        "# Iteration (for loop)\n",
        "for i in range(1, 6):\n",
        "    print(i)\n"
      ]
    },
    {
      "cell_type": "code",
      "source": [
        "#2  Get an integer input from a user. If the number is odd, then find the factorial of a number and find the number of digits in the factorial of the number. If the number is even, then check the given number is palindrome or not\n",
        "\n",
        "def factorial(n):\n",
        "    if n == 0:\n",
        "        return 1\n",
        "    else:\n",
        "        return n * factorial(n-1)\n",
        "\n",
        "def is_palindrome(n):\n",
        "    reversed_n = int(str(n)[::-1])\n",
        "    return n == reversed_n\n",
        "\n",
        "number = int(input(\"Enter an integer: \"))\n",
        "\n",
        "if number % 2 == 1:\n",
        "    fact = factorial(number)\n",
        "    num_digits = len(str(fact))\n",
        "    print(\"Factorial of\", number, \"is:\", fact)\n",
        "    print(\"Number of digits in the factorial:\", num_digits)\n",
        "else:\n",
        "    if is_palindrome(number):\n",
        "        print(number, \"is a palindrome.\")\n",
        "    else:\n",
        "        print(number, \"is not a palindrome.\")\n"
      ],
      "metadata": {
        "id": "GZ4TbHt6fwfS"
      },
      "execution_count": null,
      "outputs": []
    },
    {
      "cell_type": "code",
      "source": [
        "#3  Strings and its operations\n",
        "\n",
        "#String Concatenation:\n",
        "str1 = \"Hello\"\n",
        "str2 = \"World\"\n",
        "result = str1 + \" \" + str2\n",
        "print(result)\n",
        "\n",
        "#String Length:\n",
        "str1 = \"Hello\"\n",
        "length = len(str1)\n",
        "print(length)\n",
        "\n",
        "#String Indexing:\n",
        "str1 = \"Hello\"\n",
        "print(str1[0])\n",
        "print(str1[1])\n",
        "\n",
        "#String Slicing:\n",
        "str1 = \"Hello, World!\"\n",
        "print(str1[0:5])\n",
        "print(str1[7:])\n",
        "\n",
        "#String Formatting:\n",
        "name = \"Alice\"\n",
        "age = 25\n",
        "message = \"My name is {} and I am {} years old.\".format(name, age)\n",
        "print(message)\n",
        "\n",
        "#String Methods:\n",
        "str1 = \"Hello, World!\"\n",
        "print(str1.lower())\n",
        "print(str1.upper())\n",
        "print(str1.find(\"World\"))\n",
        "print(str1.replace(\"Hello\", \"Hi\"))\n",
        "\n",
        "\n",
        "\n",
        "\n",
        "\n",
        "\n",
        "\n",
        "\n"
      ],
      "metadata": {
        "id": "Gf0hUnuXgL0l"
      },
      "execution_count": null,
      "outputs": []
    },
    {
      "cell_type": "code",
      "source": [
        "#4  Given two strings, PRINT (YES or NO) whether the second string can be obtained from the first by deletion of none, one or more characters.\n",
        "\n",
        "def is_subsequence(string1, string2):\n",
        "    index = 0\n",
        "    for char in string1:\n",
        "        if index == len(string2):\n",
        "            break\n",
        "        if char == string2[index]:\n",
        "            index += 1\n",
        "    return index == len(string2)\n",
        "\n",
        "\n",
        "first_string = input(\"Enter the first string: \")\n",
        "second_string = input(\"Enter the second string: \")\n",
        "\n",
        "if is_subsequence(first_string, second_string):\n",
        "    print(\"YES\")\n",
        "else:\n",
        "    print(\"NO\")\n"
      ],
      "metadata": {
        "id": "AIvOXg2Olyha"
      },
      "execution_count": null,
      "outputs": []
    },
    {
      "cell_type": "code",
      "source": [
        "#5 List and its operations.\n",
        "\n",
        "#List Creation:\n",
        "my_list = [1, 2, 3, 4, 5]\n",
        "\n",
        "#Accessing List Elements:\n",
        "my_list = [1, 2, 3, 4, 5]\n",
        "print(my_list[0])  # Output: 1\n",
        "print(my_list[2])  # Output: 3\n",
        "\n",
        "#Modifying List Elements:\n",
        "my_list = [1, 2, 3, 4, 5]\n",
        "my_list[2] = 10\n",
        "print(my_list)  # Output: [1, 2, 10, 4, 5]\n",
        "\n",
        "#List Length:\n",
        "my_list = [1, 2, 3, 4, 5]\n",
        "length = len(my_list)\n",
        "print(length)  # Output: 5\n",
        "\n",
        "#List Concatenation:\n",
        "list1 = [1, 2, 3]\n",
        "list2 = [4, 5, 6]\n",
        "combined_list = list1 + list2\n",
        "print(combined_list)  # Output: [1, 2, 3, 4, 5, 6]\n",
        "\n",
        "#List Slicing:\n",
        "my_list = [1, 2, 3, 4, 5]\n",
        "sliced_list = my_list[1:4]\n",
        "print(sliced_list)  # Output: [2, 3, 4]\n",
        "\n",
        "#List Methods:\n",
        "my_list = [3, 1, 4, 2, 5]\n",
        "my_list.append(6)        # Add an element to the end of the list\n",
        "my_list.remove(2)        # Remove the first occurrence of a value\n",
        "my_list.sort()           # Sort the list in ascending order\n",
        "index = my_list.index(4) # Get the index of a value\n",
        "\n"
      ],
      "metadata": {
        "id": "-DOS8fCwmDkm"
      },
      "execution_count": null,
      "outputs": []
    },
    {
      "cell_type": "code",
      "source": [
        "#6 Programs for positive and negative indexing.\n",
        "\n",
        "#Positive Indexing:\n",
        "my_list = ['a', 'b', 'c', 'd', 'e']\n",
        "\n",
        "print(my_list[0])\n",
        "print(my_list[2])\n",
        "print(my_list[4])\n",
        "\n",
        "#Negative Indexing:\n",
        "my_list = ['a', 'b', 'c', 'd', 'e']\n",
        "\n",
        "print(my_list[-1])\n",
        "print(my_list[-3])\n",
        "print(my_list[-5])\n",
        "\n",
        "\n"
      ],
      "metadata": {
        "id": "89rnZAYznDtJ"
      },
      "execution_count": null,
      "outputs": []
    },
    {
      "cell_type": "code",
      "source": [
        "#7 program to check if the given list is in Ascending order or Not.\n",
        "\n",
        "def is_ascending(lst):\n",
        "    for i in range(1, len(lst)):\n",
        "        if lst[i] < lst[i-1]:\n",
        "            return False\n",
        "    return True\n",
        "\n",
        "numbers = [1, 2, 3, 4, 5]\n",
        "if is_ascending(numbers):\n",
        "    print(\"The list is in ascending order.\")\n",
        "else:\n",
        "    print(\"The list is not in ascending order.\")\n",
        "\n",
        "\n"
      ],
      "metadata": {
        "id": "T3DkvpRlnmcd"
      },
      "execution_count": null,
      "outputs": []
    },
    {
      "cell_type": "code",
      "source": [
        "#8 Tuples and its operations.\n",
        "\n",
        "#Creating a tuple:\n",
        "my_tuple = (1, 2, 3)\n",
        "\n",
        "#Accessing elements:\n",
        "my_tuple = (1, 2, 3)\n",
        "print(my_tuple[0])\n",
        "print(my_tuple[2])\n",
        "\n",
        "#Tuple unpacking:\n",
        "my_tuple = (1, 2, 3)\n",
        "a, b, c = my_tuple\n",
        "print(a)\n",
        "print(b)\n",
        "print(c)\n",
        "\n",
        "#Length of a tuple:\n",
        "my_tuple = (1, 2, 3)\n",
        "print(len(my_tuple))\n",
        "\n",
        "#Concatenating tuples:\n",
        "tuple1 = (1, 2)\n",
        "tuple2 = (3, 4)\n",
        "concatenated_tuple = tuple1 + tuple2\n",
        "print(concatenated_tuple)\n",
        "\n",
        "#Repeating a tuple:\n",
        "my_tuple = (1, 2)\n",
        "repeated_tuple = my_tuple * 3\n",
        "print(repeated_tuple)\n",
        "\n",
        "#Checking membership:\n",
        "my_tuple = (1, 2, 3)\n",
        "print(2 in my_tuple)\n",
        "print(4 in my_tuple)\n",
        "\n",
        "#Iterating over a tuple:\n",
        "my_tuple = (1, 2, 3)\n",
        "for element in my_tuple:\n",
        "    print(element)\n",
        "\n"
      ],
      "metadata": {
        "id": "eJ7Ojw8Yrrcp"
      },
      "execution_count": null,
      "outputs": []
    },
    {
      "cell_type": "code",
      "source": [
        "#9 Python program to convert a tuple to a string.\n",
        "\n",
        "def tuple_to_string(my_tuple):\n",
        "    string_tuple = ''.join(str(element) for element in my_tuple)\n",
        "    return string_tuple\n",
        "\n",
        "\n",
        "my_tuple = (1, 2, 3, 4, 5)\n",
        "string_tuple = tuple_to_string(my_tuple)\n",
        "print(string_tuple)\n"
      ],
      "metadata": {
        "id": "SFprT_ZZspNA"
      },
      "execution_count": null,
      "outputs": []
    },
    {
      "cell_type": "code",
      "source": [
        "#10 Python program to reverse a tuple.\n",
        "\n",
        "def reverse_tuple(my_tuple):\n",
        "    reversed_tuple = tuple(reversed(my_tuple))\n",
        "    return reversed_tuple\n",
        "\n",
        "my_tuple = (1, 2, 3, 4, 5)\n",
        "reversed_tuple = reverse_tuple(my_tuple)\n",
        "print(reversed_tuple)\n"
      ],
      "metadata": {
        "id": "nICByUm6tWZ5"
      },
      "execution_count": null,
      "outputs": []
    },
    {
      "cell_type": "code",
      "source": [
        "#11 Sets and its operations.\n",
        "\n",
        "#Creating a set:\n",
        "my_set = {1, 2, 3}\n",
        "my_set = set([1, 2, 3])\n",
        "\n",
        "#Adding elements:\n",
        "my_set.add(4)\n",
        "my_set.update([5, 6, 7])\n",
        "\n",
        "#Removing elements:\n",
        "my_set.remove(2)\n",
        "my_set.discard(3)\n",
        "my_set.pop()\n",
        "my_set.clear()\n",
        "\n",
        "#Checking membership:\n",
        "2 in my_set\n",
        "\n",
        "#Set operations:\n",
        "set1 = {1, 2, 3}\n",
        "set2 = {3, 4, 5}\n",
        "\n",
        "union_set = set1.union(set2)\n",
        "intersection_set = set1.intersection(set2)\n",
        "difference_set = set1.difference(set2)\n",
        "symmetric_difference_set = set1.symmetric_difference(set2)\n",
        "\n",
        "#Length of a set:\n",
        "len(my_set)\n"
      ],
      "metadata": {
        "id": "ouowaovitq4u"
      },
      "execution_count": null,
      "outputs": []
    },
    {
      "cell_type": "code",
      "source": [
        "#12  Python program to check if a set is a subset of another set.\n",
        "\n",
        "def is_subset(set1, set2):\n",
        "    return set1.issubset(set2)\n",
        "\n",
        "set1 = {1, 2, 3}\n",
        "set2 = {1, 2, 3, 4, 5}\n",
        "if is_subset(set1, set2):\n",
        "    print(\"set1 is a subset of set2\")\n",
        "else:\n",
        "    print(\"set1 is not a subset of set2\")\n"
      ],
      "metadata": {
        "id": "USsccsUwuVlu"
      },
      "execution_count": null,
      "outputs": []
    },
    {
      "cell_type": "code",
      "source": [
        "#13 Dictionaries and its operations.\n",
        "\n",
        "#Creating a dictionary:\n",
        "my_dict = {\"key1\": \"value1\", \"key2\": \"value2\", \"key3\": \"value3\"}\n",
        "my_dict = dict(key1=\"value1\", key2=\"value2\", key3=\"value3\")\n",
        "\n",
        "#Accessing values:\n",
        "value = my_dict[\"key1\"]\n",
        "\n",
        "#Adding or updating key-value pairs:\n",
        "my_dict[\"key4\"] = \"value4\"\n",
        "my_dict[\"key2\"] = \"new_value2\"\n",
        "\n",
        "#Removing key-value pairs:\n",
        "del my_dict[\"key3\"]\n",
        "my_dict.pop(\"key2\")\n",
        "my_dict.clear()\n",
        "\n",
        "#Checking membership:\n",
        "\"key1\" in my_dict\n",
        "\n",
        "#Getting the keys, values, and key-value pairs:\n",
        "keys = my_dict.keys()\n",
        "values = my_dict.values()\n",
        "items = my_dict.items()\n",
        "\n",
        "#Iterating over a dictionary:\n",
        "for key in my_dict:\n",
        "    value = my_dict[key]\n",
        "\n",
        "\n",
        "\n"
      ],
      "metadata": {
        "id": "umsyDJ-IucbT"
      },
      "execution_count": null,
      "outputs": []
    },
    {
      "cell_type": "code",
      "source": [
        "#14  Python program to iterate over dictionaries using for loops.\n",
        "\n",
        "my_dict = {\"key1\": \"value1\", \"key2\": \"value2\", \"key3\": \"value3\"}\n",
        "\n",
        "# Iterate over the keys\n",
        "for key in my_dict:\n",
        "    print(key)\n",
        "\n",
        "# Iterate over the values\n",
        "for value in my_dict.values():\n",
        "    print(value)\n",
        "\n",
        "# Iterate over the key-value pairs\n",
        "for key, value in my_dict.items():\n",
        "    print(key, value)\n"
      ],
      "metadata": {
        "id": "1lrH9LYfvtAs"
      },
      "execution_count": null,
      "outputs": []
    }
  ]
}